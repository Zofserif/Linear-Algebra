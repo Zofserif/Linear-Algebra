{
 "cells": [
  {
   "cell_type": "markdown",
   "metadata": {},
   "source": [
    "<h1>Linear Algebra (CpE210A)</h1>"
   ]
  },
  {
   "cell_type": "markdown",
   "metadata": {},
   "source": [
    "<h3>Laboratory 1: Plotting Vectors using NumPy and MatPlotLib</h3>"
   ]
  },
  {
   "cell_type": "markdown",
   "metadata": {},
   "source": [
    "<p>Coded and submitted by:<br>Vallarta, Troy Joaquin G.<br>58010</p>"
   ]
  },
  {
   "cell_type": "markdown",
   "metadata": {},
   "source": [
    "\\begin{equation*}\n",
    "{(Eq.1)} dist_{total} = (long_{total}) \\hat{x} + (lat_{total}) \\hat{y}\n",
    "\\end{equation*}\n"
   ]
  },
  {
   "cell_type": "markdown",
   "metadata": {},
   "source": [
    "\\begin{equation*}\n",
    "{(Eq.2)} disp = \\sqrt{{dist_x}^2 + {dist_y}^2}\n",
    "\\end{equation*}"
   ]
  },
  {
   "cell_type": "markdown",
   "metadata": {},
   "source": [
    "\\begin{equation*}\n",
    "{(Eq.3)} \\theta = \\arctan{\\left(\\frac{y}{\\alpha + x} \\right)}\n",
    "\\end{equation*}"
   ]
  },
  {
   "cell_type": "markdown",
   "metadata": {},
   "source": [
    "<h1>Question 1</h1>\n",
    "<h5>Lab Exericses: </h5>"
   ]
  },
  {
   "cell_type": "code",
   "execution_count": 1,
   "metadata": {},
   "outputs": [],
   "source": [
    "import numpy as np\n",
    "from numpy import random as ra\n",
    "from numpy import linalg as alg\n",
    "import matplotlib.pyplot as plt\n",
    "import matplotlib\n",
    "\n",
    "%matplotlib inline"
   ]
  },
  {
   "cell_type": "code",
   "execution_count": 2,
   "metadata": {},
   "outputs": [],
   "source": [
    "def track_eagle(make_figs=True):\n",
    "    long = ra.randint(-10,10, size=3)        ## since we don't actually have eagle tracking data we will use\n",
    "    lat = ra.randint(-10,10, size=3)         ## random integers for this activity. These two lines will produce\n",
    "                                             ## a vector with shape of (3,) describing the distances for the \n",
    "                                             ## eagle's flight.\n",
    "    \n",
    "    dist1 = np.array([long[0],lat[0]])       ## setup the array for each vector for the eagle's flight.\n",
    "    dist2 = np.array([long[1],long[1]])\n",
    "    dist3 = np.array([long[2],lat[2]])\n",
    "    \n",
    "    \n",
    "    \n",
    "    dist_total = dist1 + dist2 + dist3                        ## compute for the resultant vector for the eagle's flight.\n",
    "    disp = alg.norm(dist_total)                                 ## compute for the magnitude of the displacement\n",
    "                                                                ## the formula that it use is equation 2\n",
    "    alpha = 10 ** -6\n",
    "    theta =  np.arctan(dist_total[1] / dist_total[0] + alpha)   ## compute for the angle of the displacement. Hint\n",
    "                                                                ## The formula that it use is equation 3\n",
    "    theta = np.degrees(theta)                                   ## convert theta from rad to deg.\n",
    "     \n",
    "    ## Plotting the PH Eagle flight vectors.\n",
    "    plt.figure(figsize=(10,10))\n",
    "    plt.title('Philippine Eagle Flight Plotter')\n",
    "    plt.xlim(-30, 30)\n",
    "    plt.ylim(-30, 30)\n",
    "    plt.xlabel('Latitudinal Distance')\n",
    "    plt.ylabel('Longitudinal Distance')\n",
    "    plt.grid()\n",
    "    n = 2\n",
    "    \n",
    "    ### Self-discovery code block (Refer to guide question 2 for the task)\n",
    "    \n",
    "    plt.quiver(0,0, dist1[0], dist1[1], \n",
    "               angles='xy', scale_units='xy',scale=1, color='red', \n",
    "               label='Trajectory 1: {:.2f}m.'.format(np.linalg.norm(dist1)))\n",
    "    plt.quiver(dist1[0], dist1[1], dist2[0], dist2[1], \n",
    "               angles='xy', scale_units='xy',scale=1, color='blue',\n",
    "               label='Trajectory 2: {:.2f}m.'.format(np.linalg.norm(dist2)))\n",
    "    plt.quiver(np.add(dist1[0],dist2[0]), np.add(dist1[1],dist2[1]),\n",
    "               dist3[0], dist3[1], angles='xy', scale_units='xy',scale=1, color='green',\n",
    "               label='Trajectory 3: {:.2f}m.'.format(np.linalg.norm(dist3)))\n",
    "    plt.quiver(0,0, dist_total[0], dist_total[1], \n",
    "               angles='xy', scale_units='xy',scale=1, color='orange',\n",
    "               label='Displacement: {:.2f}m. @ {:.2f}'.format(disp, theta))\n",
    "    \n",
    "    plt.legend()\n",
    "    \n",
    "    if make_figs == True:\n",
    "        plt.savefig(f'LinAlg-Lab2-PH Eagle-{int(disp)}@{int(theta)}.png', dpi=300)\n",
    "    plt.show()\n",
    " "
   ]
  },
  {
   "cell_type": "code",
   "execution_count": 3,
   "metadata": {},
   "outputs": [
    {
     "data": {
      "image/png": "[encoded data removed]",
      "text/plain": [
       "<Figure size 720x720 with 1 Axes>"
      ]
     },
     "metadata": {
      "needs_background": "light"
     },
     "output_type": "display_data"
    }
   ],
   "source": [
    "track_eagle(make_figs=False) ## Let 'make_figs' equal to False during debugging. \n",
    "                                #Only flip it to True if the researcher wants to export to computer the graph created below"
   ]
  },
  {
   "cell_type": "markdown",
   "metadata": {},
   "source": [
    "<h1>Question 2</h1>\n",
    " Equations: <br>"
   ]
  },
  {
   "cell_type": "markdown",
   "metadata": {},
   "source": [
    "\\begin{equation*}\n",
    "{(Eq.1)}s_{t}= 2{t}^3 + {t}^2 + 3{t} +2\n",
    "\\end{equation*}"
   ]
  },
  {
   "cell_type": "markdown",
   "metadata": {},
   "source": [
    "\n",
    "\\begin{equation*}\n",
    "{(Eq.2)}v_{t}= 6{t}^2 + 2{t} + 3\n",
    "\\end{equation*}"
   ]
  },
  {
   "cell_type": "markdown",
   "metadata": {},
   "source": [
    "\\begin{equation*}\n",
    "{(Eq.3)}a_{t}= 12{t} + 2\n",
    "\\end{equation*}"
   ]
  },
  {
   "cell_type": "markdown",
   "metadata": {},
   "source": [
    "based on the code below, the programmer noticed that it the Velocity function of time is derivative of the speed fuction of time. The acceleration function time is the derivative of velocity function time. The function is for kinematics of the eagle's motion to the nest. The programmer did not use displacement, therefore the programmer needs to make a function of kinematics with derivative. The acceleration and the velocity before the if statement is not used. The output is the speed(t), velocity(t), and acceleration(t) respectively. "
   ]
  },
  {
   "cell_type": "code",
   "execution_count": 4,
   "metadata": {},
   "outputs": [],
   "source": [
    "def eagle_kinematics(speed, time):\n",
    "    req_shape = 4\n",
    "    velocity = np.zeros(req_shape-1)\n",
    "    accel = np.zeros(req_shape-2)\n",
    "    time_vect = np.array([time**3, time**2, time, 1])\n",
    "    if speed.shape == (req_shape,):\n",
    "        velocity = np.array([3*speed[0],2*speed[1], speed[2]])\n",
    "        accel = np.array([2*velocity[0],velocity[1]])\n",
    "        speed_t = np.sum(np.multiply(speed, time_vect))\n",
    "        velocity_t = np.sum(np.multiply(velocity, time_vect[1:]))\n",
    "        accel_t = np.sum(np.multiply(accel, time_vect[2:]))\n",
    "        \n",
    "    else:\n",
    "        print(f'Input displacement vector is not valid. Make sure that the vector shape is ({req_shape},)')\n",
    "    \n",
    "    return speed_t, velocity_t, accel_t"
   ]
  },
  {
   "cell_type": "code",
   "execution_count": 5,
   "metadata": {},
   "outputs": [
    {
     "data": {
      "text/plain": [
       "(28, 31, 26)"
      ]
     },
     "execution_count": 5,
     "metadata": {},
     "output_type": "execute_result"
    }
   ],
   "source": [
    "speed = np.array([2,1,3,2])\n",
    "time = 2\n",
    "eagle_kinematics(speed, time)"
   ]
  },
  {
   "cell_type": "markdown",
   "metadata": {},
   "source": [
    "<h3>Optimizing the code:</h3>"
   ]
  },
  {
   "cell_type": "code",
   "execution_count": 6,
   "metadata": {},
   "outputs": [],
   "source": [
    "def eagle_kinematics(speed, time,accel, velocity):\n",
    "    req_shape = 4\n",
    "    time_vect = np.array([time**3, time**2, time, 1])\n",
    "    if speed.shape == (req_shape,) and velocity.shape == (req_shape-1,) and accel.shape == (req_shape-2,):\n",
    "        speed_t = np.sum(np.multiply(speed, time_vect))\n",
    "        velocity_t = np.sum(np.multiply(velocity, time_vect[1:]))\n",
    "        accel_t = np.sum(np.multiply(accel, time_vect[2:]))\n",
    "        \n",
    "    else:\n",
    "        print(f'Input displacement vector is not valid. Make sure that the vector shape is ({req_shape},)')\n",
    "    \n",
    "    return speed_t, velocity_t, accel_t"
   ]
  },
  {
   "cell_type": "markdown",
   "metadata": {},
   "source": [
    "The speed, velocity, and acceleration value comes from the equations"
   ]
  },
  {
   "cell_type": "code",
   "execution_count": 8,
   "metadata": {},
   "outputs": [
    {
     "data": {
      "text/plain": [
       "(28, 31, 26)"
      ]
     },
     "execution_count": 8,
     "metadata": {},
     "output_type": "execute_result"
    }
   ],
   "source": [
    "speed = np.array([2,1,3,2])      #eq1\n",
    "velocity = np.array([6,2,3])     #eq2\n",
    "accel = np.array([12,2])         #eq3\n",
    "time = 2 \n",
    "eagle_kinematics(speed, time,accel,velocity)"
   ]
  },
  {
   "cell_type": "code",
   "execution_count": 9,
   "metadata": {},
   "outputs": [],
   "source": [
    "def month_profit_trace(profit, reach, make_figs=True): ## You can simplify/ optimize this code for extra points\n",
    "    if (profit.shape == (4,))  and (reach.shape == (4,)) :\n",
    "        week1 = np.array((reach[0], profit[0]))       \n",
    "        week2 = np.array((reach[1], profit[1]))\n",
    "        week3 = np.array((reach[2], profit[2]))\n",
    "        week4 = np.array((reach[3], profit[3]))\n",
    "        \n",
    "\n",
    "        week_total = week1 + week2 + week3 + week4     \n",
    "        week_performance = alg.norm(week_total)\n",
    "        alpha = 10**-6\n",
    "        reach_gradient = np.degrees(np.arctan(week_total[1]/week_total[0]))\n",
    "    \n",
    "\n",
    "        plt.figure(figsize=(16,5))\n",
    "        plt.title('Bebang\\'s Month Post Efficiency')\n",
    "        plt.xlim(0,1.01*np.sum(reach))\n",
    "        plt.ylim(-np.sum(np.abs(profit)),np.sum(np.abs(profit)))\n",
    "        plt.xlabel('FB Post Reach Increment')\n",
    "        plt.ylabel('Profit')\n",
    "        plt.grid()\n",
    "        n = 2\n",
    "        \n",
    "        \n",
    "        \n",
    "        ## put necessary vector plotting code here\n",
    "        plt.quiver(0,0, week1[0], week1[1], \n",
    "                   angles='xy', scale_units='xy',scale=1, color='yellowgreen', width=0.0025,\n",
    "                   label='Week 1: {:.2f}'.format(alg.norm(week1)))\n",
    "        \n",
    "        plt.quiver(week1[0],week1[1], week2[0], week2[1], \n",
    "                   angles='xy', scale_units='xy',scale=1, color='lime', width=0.0025,\n",
    "                   label='Week 2: {:.2f}'.format(alg.norm(week2)))\n",
    "        plt.quiver(np.add(week1[0], week2[0]), np.add(week1[1], week2[1]), week3[0], week3[1], \n",
    "                   angles='xy', scale_units='xy',scale=1, color='green', width=0.0025,\n",
    "                   label='Week 3: {:.2f}'.format(alg.norm(week3)))\n",
    "        \n",
    "        plt.quiver(week1[0]+week2[0]+week3[0],week1[1]+week2[1]+week3[1], week4[0], week4[1], \n",
    "                   angles='xy', scale_units='xy',scale=1, color='darkgreen', width=0.0025,\n",
    "                   label='Week 4: {:.2f}'.format(alg.norm(week4)))\n",
    "\n",
    "        plt.quiver(0,0, week_total[0], week_total[1], \n",
    "                   angles='xy', scale_units='xy',scale=1, color='red', width=0.005,\n",
    "                  label='Efficiency: {:.2f} @ {:.2f}'.format(week_performance, reach_gradient))\n",
    "\n",
    "        plt.legend(loc='upper left')\n",
    "\n",
    "        if make_figs:\n",
    "            plt.savefig(f'LinAlg-Lab2-Bebang Post Eff-{int(week_performance)}@{int(reach_gradient)}.png', dpi=300)\n",
    "\n",
    "        plt.show()\n",
    "    \n",
    "    else:\n",
    "        print('Dimension error') ## Make a more appropriate error statement. \n",
    "\n",
    "## END OF FUNCTION  "
   ]
  },
  {
   "cell_type": "code",
   "execution_count": 10,
   "metadata": {},
   "outputs": [
    {
     "data": {
      "image/png": "[encoded data removed]",
      "text/plain": [
       "<Figure size 1152x360 with 1 Axes>"
      ]
     },
     "metadata": {
      "needs_background": "light"
     },
     "output_type": "display_data"
    }
   ],
   "source": [
    "profit= np.array([20_000, 3_000, 10_000, 5_000])    ## You can change the values to make different scenarios\n",
    "reach = np.array([500, 120, 840, 420])             ## You can change the values to make different scenarios\n",
    "\n",
    "month_profit_trace(profit, reach, make_figs=False) ## Toggle 'make_figs' during debugging or making documentations"
   ]
  }
 ],
 "metadata": {
  "kernelspec": {
   "display_name": "Python 3",
   "language": "python",
   "name": "python3"
  },
  "language_info": {
   "codemirror_mode": {
    "name": "ipython",
    "version": 3
   },
   "file_extension": ".py",
   "mimetype": "text/x-python",
   "name": "python",
   "nbconvert_exporter": "python",
   "pygments_lexer": "ipython3",
   "version": "3.8.3"
  }
 },
 "nbformat": 4,
 "nbformat_minor": 4
}
