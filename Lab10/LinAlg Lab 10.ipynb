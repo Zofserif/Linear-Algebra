{
 "cells": [
  {
   "cell_type": "markdown",
   "metadata": {},
   "source": [
    "# Linear Algebra for CpE\n",
    "## Laboratory 10 : Linear Transformations"
   ]
  },
  {
   "cell_type": "markdown",
   "metadata": {},
   "source": [
    "Now that you have a understood the fundamentals of matrices and their operations we can move on to a more conceptual and practical application of linear algebra."
   ]
  },
  {
   "cell_type": "markdown",
   "metadata": {},
   "source": [
    "### Objectives\n",
    "At the end of this activity you will be able to:\n",
    "1. Be familiar with the role of matrix operations.\n",
    "2. Visualize matrix operations.\n",
    "3. Justify the precedence of matrix operations through Python."
   ]
  },
  {
   "cell_type": "markdown",
   "metadata": {},
   "source": [
    "## Discussion"
   ]
  },
  {
   "cell_type": "code",
   "execution_count": 1,
   "metadata": {},
   "outputs": [],
   "source": [
    "import numpy as np\n",
    "import matplotlib.pyplot as plt\n",
    "%matplotlib inline"
   ]
  },
  {
   "cell_type": "markdown",
   "metadata": {},
   "source": [
    "## Transformation"
   ]
  },
  {
   "cell_type": "markdown",
   "metadata": {},
   "source": [
    "You can recall that a vector can be scaled or translated through different vector operations. We'll now dwell more on the translation and transformation of multi-dimensional vectors (i.e. matrices). This is possible using matrix operations. Take note that not all operations to matrices or $\\mathbb{R}^2$ vectors are linear. Linear transformations leave the origin fixed and preserve parallelism. Scaling, shearing, rotation and reflexion of a plane are examples of linear transformations.  Let's try to revisit them in this notebook. \n",
    "\n",
    "References: <br/>\n",
    "<a href=\"https://mmas.github.io/linear-transformations-numpy\"> Linear transformations in Numpy </a>"
   ]
  },
  {
   "cell_type": "markdown",
   "metadata": {},
   "source": [
    "### Geometric Translation"
   ]
  },
  {
   "cell_type": "markdown",
   "metadata": {},
   "source": [
    "There are two prime requirements for linear geometric translations:\n",
    "1. Vectors remain linear upon applying the linear function\n",
    "2. The origin of the vector does not change."
   ]
  },
  {
   "cell_type": "markdown",
   "metadata": {},
   "source": [
    "To make representation easier, I have provided a user-defined function for plotting the quivers of the vectors. The function takes in the matrix we wish to transform and a transformation matrix. If no transformation matrix is provided, the default is an identity matrix."
   ]
  },
  {
   "cell_type": "code",
   "execution_count": 8,
   "metadata": {},
   "outputs": [],
   "source": [
    "def plot_quiv(x,t_mat=np.eye(2)):\n",
    "    x_prime = x @ t_mat\n",
    "    size= (2,2)\n",
    "    plt.figure(figsize=(4,4))\n",
    "\n",
    "    plt.xlim(-size[0],size[0])\n",
    "    plt.ylim(-size[1],size[1])\n",
    "    plt.xticks(np.arange((-size[0]), size[0]+1, 1.0))\n",
    "    plt.yticks(np.arange((-size[1]), size[1]+1, 1.0))\n",
    "\n",
    "\n",
    "    plt.quiver([0,0],[0,0], x_prime[0,:], x_prime[1,:], \n",
    "               angles='xy', scale_units='xy',scale=1, \n",
    "               color=['red','blue'])## use column spaces\n",
    "    plt.grid()\n",
    "    plt.show()"
   ]
  },
  {
   "cell_type": "code",
   "execution_count": 6,
   "metadata": {},
   "outputs": [
    {
     "data": {
      "image/png": "[encoded data removed]",
      "text/plain": [
       "<Figure size 288x288 with 1 Axes>"
      ]
     },
     "metadata": {
      "needs_background": "light"
     },
     "output_type": "display_data"
    }
   ],
   "source": [
    "A = np.array([\n",
    "    [1, 0],\n",
    "    [0, 1]\n",
    "])\n",
    "\n",
    "plot_quiv(A)"
   ]
  },
  {
   "cell_type": "markdown",
   "metadata": {},
   "source": [
    "## Repositioning/Translation"
   ]
  },
  {
   "cell_type": "code",
   "execution_count": 12,
   "metadata": {},
   "outputs": [
    {
     "ename": "SyntaxError",
     "evalue": "invalid syntax (<ipython-input-12-fba9298ae046>, line 5)",
     "output_type": "error",
     "traceback": [
      "\u001b[1;36m  File \u001b[1;32m\"<ipython-input-12-fba9298ae046>\"\u001b[1;36m, line \u001b[1;32m5\u001b[0m\n\u001b[1;33m    plot_quiv(A, t_mat)\u001b[0m\n\u001b[1;37m    ^\u001b[0m\n\u001b[1;31mSyntaxError\u001b[0m\u001b[1;31m:\u001b[0m invalid syntax\n"
     ]
    }
   ],
   "source": [
    "t_mat = np.array([\n",
    "    [-1,0],\n",
    "    [0,-1]\n",
    "    \n",
    "plot_quiv(A, t_mat)"
   ]
  },
  {
   "cell_type": "code",
   "execution_count": 11,
   "metadata": {},
   "outputs": [
    {
     "data": {
      "image/png": "[encoded data removed]",
      "text/plain": [
       "<Figure size 288x288 with 1 Axes>"
      ]
     },
     "metadata": {
      "needs_background": "light"
     },
     "output_type": "display_data"
    }
   ],
   "source": [
    "t_mat = np.array([\n",
    "    [-1,0],\n",
    "    [0,-1]\n",
    "])\n",
    "plot_quiv(A, t_mat)"
   ]
  },
  {
   "cell_type": "code",
   "execution_count": null,
   "metadata": {},
   "outputs": [],
   "source": [
    "t_mat = np.array([\n",
    "    [1,0],\n",
    "    [0,-1]\n",
    "])\n",
    "plot_quiv(A, t_mat)"
   ]
  },
  {
   "cell_type": "markdown",
   "metadata": {},
   "source": [
    "## Shears"
   ]
  },
  {
   "cell_type": "code",
   "execution_count": 39,
   "metadata": {},
   "outputs": [
    {
     "data": {
      "image/png": "[encoded data removed]",
      "text/plain": [
       "<Figure size 288x288 with 1 Axes>"
      ]
     },
     "metadata": {
      "needs_background": "light"
     },
     "output_type": "display_data"
    },
    {
     "name": "stdout",
     "output_type": "stream",
     "text": [
      "[[1. 0.]\n",
      " [0. 1.]]\n"
     ]
    },
    {
     "data": {
      "image/png": "[encoded data removed]",
      "text/plain": [
       "<Figure size 288x288 with 1 Axes>"
      ]
     },
     "metadata": {
      "needs_background": "light"
     },
     "output_type": "display_data"
    },
    {
     "data": {
      "image/png": "[encoded data removed]",
      "text/plain": [
       "<Figure size 288x288 with 1 Axes>"
      ]
     },
     "metadata": {
      "needs_background": "light"
     },
     "output_type": "display_data"
    }
   ],
   "source": [
    "A = np.eye(2)\n",
    "## Transformation Matrices\n",
    "shear1 = np.array([\n",
    "    [1,0],\n",
    "    [1,1]\n",
    "])\n",
    "shear2 = np.array([\n",
    "    [1,0],\n",
    "    [1,-1]\n",
    "])\n",
    "plot_quiv(A)\n",
    "print(A)\n",
    "plot_quiv(A, shear1)\n",
    "plot_quiv(A, shear2)"
   ]
  },
  {
   "cell_type": "code",
   "execution_count": 40,
   "metadata": {},
   "outputs": [
    {
     "data": {
      "image/png": "[encoded data removed]",
      "text/plain": [
       "<Figure size 288x288 with 1 Axes>"
      ]
     },
     "metadata": {
      "needs_background": "light"
     },
     "output_type": "display_data"
    }
   ],
   "source": [
    "shear = np.array([\n",
    "    [1,0],\n",
    "    [1,1]\n",
    "])\n",
    "plot_quiv(A, shear)"
   ]
  },
  {
   "cell_type": "code",
   "execution_count": 47,
   "metadata": {},
   "outputs": [
    {
     "data": {
      "image/png": "[encoded data removed]",
      "text/plain": [
       "<Figure size 288x288 with 1 Axes>"
      ]
     },
     "metadata": {
      "needs_background": "light"
     },
     "output_type": "display_data"
    }
   ],
   "source": [
    "shear = np.array([\n",
    "    [-1,1],\n",
    "    [1,1]\n",
    "])\n",
    "plot_quiv(A, shear)"
   ]
  },
  {
   "cell_type": "code",
   "execution_count": 51,
   "metadata": {},
   "outputs": [
    {
     "data": {
      "image/png": "[encoded data removed]",
      "text/plain": [
       "<Figure size 288x288 with 1 Axes>"
      ]
     },
     "metadata": {
      "needs_background": "light"
     },
     "output_type": "display_data"
    }
   ],
   "source": [
    "shear = np.array([\n",
    "    [1.5,0],\n",
    "    [1.5,1.5]\n",
    "])\n",
    "plot_quiv(A, shear)"
   ]
  },
  {
   "cell_type": "markdown",
   "metadata": {},
   "source": [
    "## Scaling"
   ]
  },
  {
   "cell_type": "code",
   "execution_count": null,
   "metadata": {},
   "outputs": [],
   "source": [
    "## Scaling matrix\n",
    "scale = np.array([\n",
    "    [0.5,0],\n",
    "    [0,0.5]\n",
    "])\n",
    "# scale2 = 0.5*np.eye(2)\n",
    "print(scale2)\n",
    "# print(scale)\n",
    "plot_quiv(A)\n",
    "plot_quiv(A, scale)"
   ]
  },
  {
   "cell_type": "code",
   "execution_count": null,
   "metadata": {},
   "outputs": [],
   "source": [
    "X = np.array([\n",
    "    [1,2],\n",
    "    [2,1]\n",
    "])\n",
    "scale = np.array([\n",
    "    [0.3333,0],\n",
    "    [0,-0.5]\n",
    "])\n",
    "plot_quiv(X)\n",
    "plot_quiv(X,scale)"
   ]
  },
  {
   "cell_type": "code",
   "execution_count": null,
   "metadata": {},
   "outputs": [],
   "source": [
    "Y = np.eye(2)\n",
    "plot_quiv(Y)\n",
    "t_mat = np.array([\n",
    "    [-2,0],\n",
    "    [0,-2]\n",
    "])\n",
    "t_mat2 = np.array([\n",
    "    [-0.5,0],\n",
    "    [0,0.5]\n",
    "])\n",
    "Y_prime = t_mat@Y\n",
    "Y_prime2 = t_mat2 @ t_mat @ Y\n",
    "plot_quiv(Y,t_mat) ## Y_prime\n",
    "plot_quiv(t_mat@Y,t_mat2) ## Y_prime2"
   ]
  },
  {
   "cell_type": "markdown",
   "metadata": {},
   "source": [
    "## Rotation"
   ]
  },
  {
   "cell_type": "code",
   "execution_count": 25,
   "metadata": {},
   "outputs": [],
   "source": [
    "def rot_matrix(theta):\n",
    "    theta = np.deg2rad(theta)\n",
    "    rot_mat = np.array([\n",
    "        [np.cos(theta), -np.sin(theta)],\n",
    "        [np.sin(theta), np.cos(theta)]\n",
    "    ])\n",
    "    return rot_mat"
   ]
  },
  {
   "cell_type": "code",
   "execution_count": 26,
   "metadata": {},
   "outputs": [
    {
     "data": {
      "image/png": "[encoded data removed]",
      "text/plain": [
       "<Figure size 288x288 with 1 Axes>"
      ]
     },
     "metadata": {
      "needs_background": "light"
     },
     "output_type": "display_data"
    },
    {
     "data": {
      "image/png": "[encoded data removed]",
      "text/plain": [
       "<Figure size 288x288 with 1 Axes>"
      ]
     },
     "metadata": {
      "needs_background": "light"
     },
     "output_type": "display_data"
    }
   ],
   "source": [
    "rotate = rot_matrix(45)\n",
    "plot_quiv(A)\n",
    "scale = 2*np.eye(2)\n",
    "plot_quiv(scale@rotate@A)"
   ]
  },
  {
   "cell_type": "code",
   "execution_count": null,
   "metadata": {},
   "outputs": [],
   "source": [
    "G = np.array([\n",
    "    [0.5,-1],\n",
    "    [0.5,-1]\n",
    "])\n",
    "print(G)\n",
    "plot_quiv(G)"
   ]
  },
  {
   "cell_type": "markdown",
   "metadata": {},
   "source": [
    "# 3D Transformations"
   ]
  },
  {
   "cell_type": "code",
   "execution_count": null,
   "metadata": {},
   "outputs": [],
   "source": [
    "def plot_3d_quiv(x, azimuth=0, elevation=0):\n",
    "#     x_prime = x @ t_mat\n",
    "#     print(x_prime)\n",
    "    fig = plt.figure(figsize=(8,8))\n",
    "    ax1 = fig.gca(projection='3d')\n",
    "    ax1.set_xlim([-2, 2])\n",
    "    ax1.set_ylim([-2, 2])\n",
    "    ax1.set_zlim([-2, 2])\n",
    "    ax1.set_xlabel(\"X (roll)\")\n",
    "    ax1.set_ylabel(\"Y (pitch)\")\n",
    "    ax1.set_zlabel(\"Z (yaw)\")\n",
    "\n",
    "    origin = (0,0,0)\n",
    "    ax1.quiver(origin, origin, origin, x[0,:], x[1,:], x[2,:], \n",
    "               arrow_length_ratio=0.1, colors=['red','blue','green'])\n",
    "    plt.grid()\n",
    "    ax1.view_init(azim=azimuth, elev=elevation)        \n",
    "    plt.show()\n",
    "    "
   ]
  },
  {
   "cell_type": "code",
   "execution_count": null,
   "metadata": {},
   "outputs": [],
   "source": [
    "X = np.eye(3)\n",
    "t_mat = np.array([\n",
    "    [1,0,1],\n",
    "    [0,2,2],\n",
    "    [1,0,1]\n",
    "])\n",
    "plot_3d_quiv(t_mat@X, 30, 50)"
   ]
  },
  {
   "cell_type": "code",
   "execution_count": null,
   "metadata": {},
   "outputs": [],
   "source": [
    "def rot_matrix_3d(roll, pitch, yaw):\n",
    "    alpha = [np.deg2rad(roll), np.deg2rad(pitch), np.deg2rad(yaw)]\n",
    "    roll = np.array([\n",
    "        [1,0,0],\n",
    "        [0, np.cos(alpha[0]), -np.sin(alpha[0])],\n",
    "        [0, np.sin(alpha[0]), np.cos(alpha[0])]\n",
    "    ])\n",
    "    pitch = np.array([\n",
    "        [np.cos(alpha[1]), 0, np.sin(alpha[1])],\n",
    "        [0 ,1 ,0],\n",
    "        [-np.sin(alpha[1]), 0, np.cos(alpha[1])]\n",
    "    ])\n",
    "    yaw = np.array([\n",
    "        [np.cos(alpha[2]), -np.sin(alpha[2]), 0],\n",
    "        [np.sin(alpha[2]), np.cos(alpha[2]), 0],\n",
    "        [0,0,1]\n",
    "    ])\n",
    "    res = roll @ pitch @ yaw\n",
    "    return roll, pitch, yaw, res"
   ]
  },
  {
   "cell_type": "code",
   "execution_count": null,
   "metadata": {},
   "outputs": [],
   "source": [
    "r_x, r_y, r_z, r_mat = rot_matrix_3d(roll=10,pitch=-0,yaw=0)\n",
    "M = np.array([\n",
    "    [2,0,0],\n",
    "    [0,1,0],\n",
    "    [0,0,0.5]\n",
    "])\n",
    "# scale = 1.5*np.eye(3)\n",
    "plot_3d_quiv(0.5*r_mat@M, 30,30)"
   ]
  },
  {
   "cell_type": "markdown",
   "metadata": {},
   "source": [
    "## Supplementary Activity"
   ]
  },
  {
   "cell_type": "markdown",
   "metadata": {},
   "source": [
    "Try to implement the linear transformations using spancs using the scatteplot view. Just do at least one example of linear transformation for a 2D space."
   ]
  },
  {
   "cell_type": "code",
   "execution_count": 108,
   "metadata": {},
   "outputs": [],
   "source": [
    "def plot_scatter(x,t_mat=np.eye(2)):\n",
    "    x_prime = x @ t_mat\n",
    "    size= (2,2)\n",
    "    plt.figure(figsize=(4,4))\n",
    "    \n",
    "    \n",
    "    mat = None\n",
    "    \n",
    "    if np.amax(x_prime) == 0.0:\n",
    "        mat = np.amin(x_prime)\n",
    "    else:\n",
    "        mat = np.amax(x_prime)               ## to get the size of the arrow\n",
    "        \n",
    "    c = np.arange(0,abs(mat),0.2)           ## using abs() function to find the size of the vector\n",
    "\n",
    "    plt.scatter(c*x_prime[0][0],c*x_prime[0][1], color = 'r')   ## for the x-axis\n",
    "    plt.scatter(c*x_prime[1][0],c*x_prime[1][1], color = 'b')   ## for the y-axis\n",
    "\n",
    "    plt.xlim(-size[0],size[0])\n",
    "    plt.ylim(-size[1],size[1])\n",
    "    plt.xticks(np.arange((-size[0]), size[0]+1, 1.0))\n",
    "    plt.yticks(np.arange((-size[1]), size[1]+1, 1.0))\n",
    "    \n",
    "    plt.grid()\n",
    "    plt.show()"
   ]
  },
  {
   "cell_type": "code",
   "execution_count": 109,
   "metadata": {},
   "outputs": [
    {
     "data": {
      "image/png": "[encoded data removed]",
      "text/plain": [
       "<Figure size 288x288 with 1 Axes>"
      ]
     },
     "metadata": {
      "needs_background": "light"
     },
     "output_type": "display_data"
    }
   ],
   "source": [
    "A = np.array([\n",
    "    [1, 0],\n",
    "    [0, 1]\n",
    "])\n",
    "\n",
    "\n",
    "t_mat = np.array([\n",
    "    [-1,0],\n",
    "    [0,-1]\n",
    "])\n",
    "\n",
    "shear = np.array([\n",
    "    [-1,1],\n",
    "    [1,1]\n",
    "])\n",
    "\n",
    "plot_scatter(A, t_mat)"
   ]
  },
  {
   "cell_type": "code",
   "execution_count": 110,
   "metadata": {},
   "outputs": [
    {
     "data": {
      "image/png": "[encoded data removed]",
      "text/plain": [
       "<Figure size 288x288 with 1 Axes>"
      ]
     },
     "metadata": {
      "needs_background": "light"
     },
     "output_type": "display_data"
    }
   ],
   "source": [
    "plot_scatter(A, shear)"
   ]
  },
  {
   "cell_type": "markdown",
   "metadata": {},
   "source": [
    "### Conclusion"
   ]
  },
  {
   "cell_type": "markdown",
   "metadata": {},
   "source": [
    "As a conclusion briefly explain the essence of linear transformations. Additionally, cite an example of using linear transformation in mechanics."
   ]
  }
 ],
 "metadata": {
  "kernelspec": {
   "display_name": "Python 3",
   "language": "python",
   "name": "python3"
  },
  "language_info": {
   "codemirror_mode": {
    "name": "ipython",
    "version": 3
   },
   "file_extension": ".py",
   "mimetype": "text/x-python",
   "name": "python",
   "nbconvert_exporter": "python",
   "pygments_lexer": "ipython3",
   "version": "3.8.3"
  }
 },
 "nbformat": 4,
 "nbformat_minor": 4
}
